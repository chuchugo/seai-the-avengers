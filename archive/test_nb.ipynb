{
 "cells": [
  {
   "cell_type": "code",
   "execution_count": 1,
   "metadata": {},
   "outputs": [],
   "source": [
    "import numpy as np\n",
    "import pandas as pd\n",
    "import matplotlib.pyplot as plt"
   ]
  },
  {
   "cell_type": "code",
   "execution_count": 2,
   "metadata": {},
   "outputs": [],
   "source": [
    "user_data = pd.read_csv(\"../kafka-consumer/data/watched_combined.csv\")"
   ]
  },
  {
   "cell_type": "code",
   "execution_count": 3,
   "metadata": {},
   "outputs": [],
   "source": [
    "user_movie_count = user_data.value_counts(\"user\")"
   ]
  },
  {
   "cell_type": "code",
   "execution_count": null,
   "metadata": {},
   "outputs": [
    {
     "name": "stdout",
     "output_type": "stream",
     "text": [
      "<class 'pandas.core.series.Series'>\n"
     ]
    }
   ],
   "source": [
    "# print(type(user_movie_count))"
   ]
  },
  {
   "cell_type": "code",
   "execution_count": 4,
   "metadata": {},
   "outputs": [
    {
     "data": {
      "text/plain": [
       "(array([23539., 20546., 85272.,   916.,  1068.,  1363.]),\n",
       " array([ 1. ,  7.5, 14. , 20.5, 27. , 33.5, 40. ]),\n",
       " <BarContainer object of 6 artists>)"
      ]
     },
     "execution_count": 4,
     "metadata": {},
     "output_type": "execute_result"
    },
    {
     "data": {
      "image/png": "[encoded data removed]",
      "text/plain": [
       "<Figure size 432x288 with 1 Axes>"
      ]
     },
     "metadata": {
      "needs_background": "light"
     },
     "output_type": "display_data"
    }
   ],
   "source": [
    "plt.hist(user_movie_count, bins = 6)"
   ]
  },
  {
   "cell_type": "code",
   "execution_count": 5,
   "metadata": {},
   "outputs": [],
   "source": [
    "singles_removed = user_movie_count[:len(user_movie_count)//5]"
   ]
  },
  {
   "cell_type": "code",
   "execution_count": 6,
   "metadata": {},
   "outputs": [
    {
     "data": {
      "text/plain": [
       "(array([23525.,   285.,   452.,   292.,   453.,   348.,   594.,   591.]),\n",
       " array([20. , 22.5, 25. , 27.5, 30. , 32.5, 35. , 37.5, 40. ]),\n",
       " <BarContainer object of 8 artists>)"
      ]
     },
     "execution_count": 6,
     "metadata": {},
     "output_type": "execute_result"
    },
    {
     "data": {
      "image/png": "[encoded data removed]",
      "text/plain": [
       "<Figure size 432x288 with 1 Axes>"
      ]
     },
     "metadata": {
      "needs_background": "light"
     },
     "output_type": "display_data"
    }
   ],
   "source": [
    "plt.hist(singles_removed, bins = 8)\n"
   ]
  },
  {
   "cell_type": "code",
   "execution_count": 7,
   "metadata": {},
   "outputs": [],
   "source": [
    "singles_removed = singles_removed[singles_removed>5]"
   ]
  },
  {
   "cell_type": "code",
   "execution_count": 8,
   "metadata": {},
   "outputs": [
    {
     "data": {
      "text/plain": [
       "26540"
      ]
     },
     "execution_count": 8,
     "metadata": {},
     "output_type": "execute_result"
    }
   ],
   "source": [
    "len(singles_removed)"
   ]
  },
  {
   "cell_type": "code",
   "execution_count": null,
   "metadata": {},
   "outputs": [],
   "source": [
    "test = pd.DataFrame(columns=[\"user\", \"movie\"])\n",
    "ref_data = pd.DataFrame(columns=[\"user\", \"movie\"])\n",
    "\n",
    "for count, id in enumerate(singles_removed.index):\n",
    "    user_movies = user_data[user_data[\"user\"]==id]\n",
    "    if count%1000==0:\n",
    "        print(count, end=' ')\n",
    "    test = pd.concat([test,user_movies.iloc[-5:]])\n",
    "    ref_data = pd.concat([ref_data,user_movies.iloc[:-5]])\n",
    "test.to_csv(\"test.csv\")\n",
    "ref_data.to_csv(\"ref_data.csv\")"
   ]
  },
  {
   "cell_type": "code",
   "execution_count": 2,
   "metadata": {},
   "outputs": [
    {
     "name": "stdout",
     "output_type": "stream",
     "text": [
      "   Unnamed: 0    user                                         movie\n",
      "0       40182  117931                             the+notebook+2004\n",
      "1       40183  117931  the+princess+diaries+2+royal+engagement+2004\n",
      "2       40184  117931                     the+princess+diaries+2001\n",
      "3       40185  117931                 the+silence+of+the+lambs+1991\n",
      "4       40186  117931                                     troy+2004\n",
      "5     1446928  736654                     the+royal+tenenbaums+2001\n"
     ]
    }
   ],
   "source": [
    "test_data = pd.read_csv(\"test.csv\")\n",
    "print(test_data.head(6))"
   ]
  },
  {
   "cell_type": "code",
   "execution_count": 3,
   "metadata": {},
   "outputs": [
    {
     "name": "stdout",
     "output_type": "stream",
     "text": [
      "   Unnamed: 0    user                                 movie\n",
      "0       40147  117931                 along+came+polly+2004\n",
      "1       40148  117931  around+the+world+in+eighty+days+1956\n",
      "2       40149  117931                     brother+bear+2003\n",
      "3       40150  117931                   calendar+girls+2003\n",
      "4       40151  117931             cheaper+by+the+dozen+1950\n"
     ]
    }
   ],
   "source": [
    "ref_data = pd.read_csv(\"ref_data.csv\")\n",
    "print(ref_data.head())"
   ]
  },
  {
   "cell_type": "code",
   "execution_count": 4,
   "metadata": {},
   "outputs": [
    {
     "name": "stdout",
     "output_type": "stream",
     "text": [
      "['/home/bhavuks/Desktop/group-project-s22-the-avengers/accuracy_measure', '/home/bhavuks/Desktop/group-project-s22-the-avengers/accuracy_measure/../content_based_model/', '/usr/lib/python38.zip', '/usr/lib/python3.8', '/usr/lib/python3.8/lib-dynload', '', '/home/bhavuks/.local/lib/python3.8/site-packages', '/usr/local/lib/python3.8/dist-packages', '/usr/lib/python3/dist-packages']\n"
     ]
    }
   ],
   "source": [
    "import numpy as np\n",
    "import pandas as pd\n",
    "import matplotlib.pyplot as plt\n",
    "import os\n",
    "import sys\n",
    "import pickle\n",
    "# sys.path.append('')\n",
    "sys.path.insert(1, os.getcwd()+'/../content_based_model/')\n",
    "print(sys.path)"
   ]
  },
  {
   "cell_type": "code",
   "execution_count": 5,
   "metadata": {},
   "outputs": [],
   "source": [
    "# from collaborative_rec import predictAndRecommend\n",
    "from content_based_testing import recommend_user"
   ]
  },
  {
   "cell_type": "code",
   "execution_count": 6,
   "metadata": {},
   "outputs": [
    {
     "name": "stdout",
     "output_type": "stream",
     "text": [
      "Gathering DATA\n",
      "132704\n",
      "Loading data\n",
      "Mapping data\n"
     ]
    }
   ],
   "source": [
    "print(\"Gathering DATA\")\n",
    "data = pd.read_csv(\"../kafka-consumer/data/clean_data_combined.csv\")\n",
    "user_data = pd.read_csv(\"../kafka-consumer/data/watched_combined.csv\")\n",
    "user_set = set(user_data[\"user\"])\n",
    "print(len(user_set))\n",
    "\n",
    "print(\"Loading data\")\n",
    "loaded_model = pickle.load(open(\"../content_based_model/2_saved_model_m1\", \"rb\"))\n",
    "print(\"Mapping data\")\n",
    "# Movies index mapping\n",
    "mapping = pd.Series(range(len(data['id'])), index = data['id'])\n"
   ]
  },
  {
   "cell_type": "code",
   "execution_count": 7,
   "metadata": {},
   "outputs": [],
   "source": [
    "recommend_user_new = lambda userid: recommend_user(userid, data, user_data, loaded_model, mapping)"
   ]
  },
  {
   "cell_type": "code",
   "execution_count": 8,
   "metadata": {},
   "outputs": [
    {
     "data": {
      "text/plain": [
       "[]"
      ]
     },
     "execution_count": 8,
     "metadata": {},
     "output_type": "execute_result"
    }
   ],
   "source": [
    "recommend_user(18792, data, user_data, loaded_model, mapping)"
   ]
  },
  {
   "cell_type": "code",
   "execution_count": 9,
   "metadata": {},
   "outputs": [],
   "source": [
    "def metrics(recommend_fn):\n",
    "    total_users = len(test[\"user\"].unique())\n",
    "    print(\"Total users tested:\",total_users)\n",
    "    count = 0\n",
    "    avg_prec = 0\n",
    "    top_5_acc = 0\n",
    "    top_10_acc = 0\n",
    "    top_20_acc = 0\n",
    "    for user_id in test[\"user\"].unique():\n",
    "        count+=1\n",
    "        if count%100 == 0:\n",
    "            print(count)\n",
    "        top_5 = top_10_prec = top_10 = top_20 = 0\n",
    "        next_watched = test[test[\"user\"]==user_id][\"movie\"]\n",
    "        rec_movies = recommend_fn(user_id)\n",
    "        for movie in next_watched:\n",
    "            if movie in rec_movies[:5]:\n",
    "                top_20 = top_10 = top_5 = 1\n",
    "            elif movie in rec_movies[:10]:\n",
    "                top_20 = top_10 = 1\n",
    "            elif movie in rec_movies:\n",
    "                top_20 = 1\n",
    "        for movie in rec_movies[:5]:\n",
    "            if movie in next_watched:\n",
    "                top_10_prec+=1\n",
    "        top_5_acc += top_5; top_10_acc += top_10; top_20_acc += top_20\n",
    "        avg_prec += top_10_prec\n",
    "    return np.array([avg_prec, top_5_acc, top_10_acc, top_20_acc])/total_users"
   ]
  },
  {
   "cell_type": "code",
   "execution_count": 10,
   "metadata": {},
   "outputs": [
    {
     "name": "stdout",
     "output_type": "stream",
     "text": [
      "Total users tested: 26540\n",
      "100\n",
      "200\n",
      "300\n",
      "400\n",
      "500\n",
      "600\n",
      "700\n",
      "800\n",
      "900\n",
      "1000\n",
      "1100\n",
      "1200\n",
      "1300\n",
      "1400\n",
      "1500\n",
      "1600\n",
      "1700\n",
      "1800\n",
      "1900\n",
      "2000\n",
      "2100\n",
      "2200\n",
      "2300\n",
      "2400\n",
      "2500\n",
      "2600\n",
      "2700\n",
      "2800\n",
      "2900\n",
      "3000\n",
      "3100\n",
      "3200\n",
      "3300\n",
      "3400\n",
      "3500\n",
      "3600\n",
      "3700\n",
      "3800\n",
      "3900\n",
      "4000\n",
      "4100\n",
      "4200\n",
      "4300\n",
      "4400\n",
      "4500\n",
      "4600\n",
      "4700\n",
      "4800\n",
      "4900\n",
      "5000\n",
      "5100\n",
      "5200\n",
      "5300\n",
      "5400\n",
      "5500\n",
      "5600\n",
      "5700\n",
      "5800\n",
      "5900\n",
      "6000\n",
      "6100\n",
      "6200\n",
      "6300\n",
      "6400\n",
      "6500\n",
      "6600\n",
      "6700\n",
      "6800\n",
      "6900\n",
      "7000\n",
      "7100\n",
      "7200\n",
      "7300\n",
      "7400\n",
      "7500\n",
      "7600\n",
      "7700\n",
      "7800\n",
      "7900\n",
      "8000\n",
      "8100\n",
      "8200\n",
      "8300\n",
      "8400\n",
      "8500\n",
      "8600\n",
      "8700\n",
      "8800\n",
      "8900\n",
      "9000\n",
      "9100\n",
      "9200\n",
      "9300\n",
      "9400\n",
      "9500\n",
      "9600\n",
      "9700\n",
      "9800\n",
      "9900\n",
      "10000\n",
      "10100\n",
      "10200\n",
      "10300\n",
      "10400\n",
      "10500\n",
      "10600\n",
      "10700\n",
      "10800\n",
      "10900\n",
      "11000\n",
      "11100\n",
      "11200\n",
      "11300\n",
      "11400\n",
      "11500\n",
      "11600\n",
      "11700\n",
      "11800\n",
      "11900\n",
      "12000\n",
      "12100\n",
      "12200\n",
      "12300\n",
      "12400\n",
      "12500\n",
      "12600\n",
      "12700\n",
      "12800\n",
      "12900\n",
      "13000\n",
      "13100\n",
      "13200\n",
      "13300\n",
      "13400\n",
      "13500\n",
      "13600\n",
      "13700\n",
      "13800\n",
      "13900\n",
      "14000\n",
      "14100\n",
      "14200\n",
      "14300\n",
      "14400\n",
      "14500\n",
      "14600\n",
      "14700\n",
      "14800\n",
      "14900\n",
      "15000\n",
      "15100\n",
      "15200\n",
      "15300\n",
      "15400\n",
      "15500\n",
      "15600\n",
      "15700\n",
      "15800\n",
      "15900\n",
      "16000\n",
      "16100\n",
      "16200\n",
      "16300\n",
      "16400\n",
      "16500\n",
      "16600\n",
      "16700\n",
      "16800\n",
      "16900\n",
      "17000\n",
      "17100\n",
      "17200\n",
      "17300\n",
      "17400\n",
      "17500\n",
      "17600\n",
      "17700\n",
      "17800\n",
      "17900\n",
      "18000\n",
      "18100\n",
      "18200\n",
      "18300\n",
      "18400\n",
      "18500\n",
      "18600\n",
      "18700\n",
      "18800\n",
      "18900\n",
      "19000\n",
      "19100\n",
      "19200\n",
      "19300\n",
      "19400\n",
      "19500\n",
      "19600\n",
      "19700\n",
      "19800\n",
      "19900\n",
      "20000\n",
      "20100\n",
      "20200\n",
      "20300\n",
      "20400\n",
      "20500\n",
      "20600\n",
      "20700\n",
      "20800\n",
      "20900\n",
      "21000\n",
      "21100\n",
      "21200\n",
      "21300\n",
      "21400\n",
      "21500\n",
      "21600\n",
      "21700\n",
      "21800\n",
      "21900\n",
      "22000\n",
      "22100\n",
      "22200\n",
      "22300\n",
      "22400\n",
      "22500\n",
      "22600\n",
      "22700\n",
      "22800\n",
      "22900\n",
      "23000\n",
      "23100\n",
      "23200\n",
      "23300\n",
      "23400\n",
      "23500\n",
      "23600\n",
      "23700\n",
      "23800\n",
      "23900\n",
      "24000\n",
      "24100\n",
      "24200\n",
      "24300\n",
      "24400\n",
      "24500\n",
      "24600\n",
      "24700\n",
      "24800\n",
      "24900\n",
      "25000\n",
      "25100\n",
      "25200\n",
      "25300\n",
      "25400\n",
      "25500\n",
      "25600\n",
      "25700\n",
      "25800\n",
      "25900\n",
      "26000\n",
      "26100\n",
      "26200\n",
      "26300\n",
      "26400\n",
      "26500\n",
      "[0. 0. 0. 0.]\n"
     ]
    }
   ],
   "source": [
    "test = test_data\n",
    "print(metrics(recommend_user_new))"
   ]
  },
  {
   "cell_type": "code",
   "execution_count": 11,
   "metadata": {},
   "outputs": [
    {
     "ename": "NameError",
     "evalue": "name 'metrics_data' is not defined",
     "output_type": "error",
     "traceback": [
      "\u001b[0;31m---------------------------------------------------------------------------\u001b[0m",
      "\u001b[0;31mNameError\u001b[0m                                 Traceback (most recent call last)",
      "\u001b[1;32m/home/bhavuks/Desktop/group-project-s22-the-avengers/accuracy_measure/test_nb.ipynb Cell 20'\u001b[0m in \u001b[0;36m<module>\u001b[0;34m\u001b[0m\n\u001b[0;32m----> <a href='vscode-notebook-cell://ssh-remote%2B128.2.205.118/home/bhavuks/Desktop/group-project-s22-the-avengers/accuracy_measure/test_nb.ipynb#ch0000019vscode-remote?line=0'>1</a>\u001b[0m \u001b[39mprint\u001b[39m(metrics_data)\n",
      "\u001b[0;31mNameError\u001b[0m: name 'metrics_data' is not defined"
     ]
    }
   ],
   "source": [
    "print(metrics_data)"
   ]
  }
 ],
 "metadata": {
  "interpreter": {
   "hash": "916dbcbb3f70747c44a77c7bcd40155683ae19c65e1c03b4aa3499c5328201f1"
  },
  "kernelspec": {
   "display_name": "Python 3 (ipykernel)",
   "language": "python",
   "name": "python3"
  },
  "language_info": {
   "codemirror_mode": {
    "name": "ipython",
    "version": 3
   },
   "file_extension": ".py",
   "mimetype": "text/x-python",
   "name": "python",
   "nbconvert_exporter": "python",
   "pygments_lexer": "ipython3",
   "version": "3.8.10"
  },
  "orig_nbformat": 4
 },
 "nbformat": 4,
 "nbformat_minor": 2
}
