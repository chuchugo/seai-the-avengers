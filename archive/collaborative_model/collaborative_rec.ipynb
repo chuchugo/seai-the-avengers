{
 "cells": [
  {
   "cell_type": "code",
   "execution_count": null,
   "metadata": {},
   "outputs": [],
   "source": [
    "import import_ipynb\n",
    "import collaboration_algo"
   ]
  },
  {
   "cell_type": "markdown",
   "metadata": {},
   "source": [
    "2. Get movie list"
   ]
  },
  {
   "cell_type": "code",
   "execution_count": null,
   "metadata": {},
   "outputs": [],
   "source": [
    "def getMovieFile():\n",
    "    # read all the movie ids\n",
    "    import pandas as pd\n",
    "    df_movies = pd.read_csv(\"kafka-consumer/data/clean_data_1.csv\")\n",
    "    df_movies.shape\n",
    "\n",
    "    # df_movies.head()\n",
    "    ser_movies = df_movies[\"id\"] \n",
    "    df_movies.head(5)\n",
    "    return ser_movies\n",
    "ser_movies = getMovieFile()"
   ]
  },
  {
   "cell_type": "markdown",
   "metadata": {},
   "source": [
    "3. Recommendation"
   ]
  },
  {
   "cell_type": "code",
   "execution_count": null,
   "metadata": {},
   "outputs": [],
   "source": [
    "#For the recmmoendation for a user, create userTestSet for prediction\n",
    "    # list of tuples\n",
    "    #[('469629', 'casino+1995', 5.0),\n",
    "    # ('871227', 'bedknobs+and+broomsticks+1971', 3.0)]\n",
    "\n",
    "def makeSet(userid): # input should be a number instead of str\n",
    "    userid = str(userid)\n",
    "    userTestSet = list()\n",
    "    for movie in ser_movies:\n",
    "        tuple = (userid, movie, 0)\n",
    "        userTestSet.append(tuple)\n",
    "    return userTestSet"
   ]
  },
  {
   "cell_type": "code",
   "execution_count": null,
   "metadata": {},
   "outputs": [],
   "source": [
    "\n",
    "#choose top 20 ratings of movies for one user\n",
    "def chooseTop20(userid,df_result):\n",
    "    is_user = df_result[\"userId\"]== str(userid)\n",
    "    df_user = df_result[is_user]\n",
    "    df_user = df_user.sort_values([\"rank\"], ascending=True)\n",
    "    # print(df_user)\n",
    "    if (df_user.shape[0]>20):\n",
    "        df_user  = df_user[:20]\n",
    "    return df_user\n",
    "\n",
    "# For cold start users/ users who didnt occur in the rating file\n",
    "# give them the most popular movies \n",
    "def Top20inAllMovie(df):\n",
    "    # the movie occured the most in the movie rating file\n",
    "    df_top20inAll = df[\"movieId\"].value_counts()[:20]\n",
    "    return df_top20inAll"
   ]
  }
 ],
 "metadata": {
  "interpreter": {
   "hash": "31f2aee4e71d21fbe5cf8b01ff0e069b9275f58929596ceb00d14d90e3e16cd6"
  },
  "kernelspec": {
   "display_name": "Python 3.8.10 64-bit",
   "language": "python",
   "name": "python3"
  },
  "language_info": {
   "name": "python",
   "version": "3.8.10"
  },
  "orig_nbformat": 4
 },
 "nbformat": 4,
 "nbformat_minor": 2
}
