{
 "cells": [
  {
   "cell_type": "code",
   "execution_count": null,
   "metadata": {},
   "outputs": [],
   "source": [
    "import pandas as pd\n",
    "from content_based_training import data\n",
    "from content_based_training import similar_movies"
   ]
  },
  {
   "cell_type": "code",
   "execution_count": null,
   "metadata": {},
   "outputs": [],
   "source": [
    "def recommend(userid):\n",
    "    watched = set(user_data[user_data[\"user\"] == userid]['movie'].tolist())\n",
    "    watchlist = set()\n",
    "    print(\"Movies watched by user \" + str(userid) + \": \")\n",
    "    for movie in watched:\n",
    "        title = data.loc[data['id'] == movie]['id'].tolist()[0]\n",
    "        print(title)\n",
    "        watchlist = watchlist.union(set(similar_movies(title)))\n",
    "    return list(watchlist.difference(watched))\n",
    "\n",
    "recommendations = recommend(775307)\n",
    "print(\"\\nRecommended movie list:\\n\", recommendations)"
   ]
  }
 ],
 "metadata": {
  "language_info": {
   "name": "python"
  },
  "orig_nbformat": 4
 },
 "nbformat": 4,
 "nbformat_minor": 2
}
