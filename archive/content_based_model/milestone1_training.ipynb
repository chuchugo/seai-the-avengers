{
 "cells": [
  {
   "cell_type": "markdown",
   "metadata": {},
   "source": [
    "### IMPORTING LIBRARIES AND DATA"
   ]
  },
  {
   "cell_type": "code",
   "execution_count": 3,
   "metadata": {},
   "outputs": [],
   "source": [
    "import numpy as np\n",
    "import pandas as pd\n",
    "from sklearn.metrics.pairwise import cosine_similarity\n",
    "from sklearn.metrics import mean_squared_error\n",
    "from sklearn.model_selection import train_test_split\n",
    "from sklearn.feature_extraction.text import TfidfVectorizer\n",
    "from sklearn.metrics.pairwise import linear_kernel\n",
    "from ast import literal_eval\n",
    "from sklearn.feature_extraction.text import CountVectorizer"
   ]
  },
  {
   "cell_type": "code",
   "execution_count": 4,
   "metadata": {},
   "outputs": [],
   "source": [
    "print(\"GATHERING DATA\")\n",
    "data = pd.read_csv(\"kafka-consumer/data/movie_data_1.csv\")\n",
    "# user_data = pd.read_csv(\"kafka-consumer/data/user_watched_256.csv\")\n",
    "# user_data = pd.read_csv(\"kafka-consumer/data/user_watched_ongoing.csv\")"
   ]
  },
  {
   "cell_type": "markdown",
   "metadata": {},
   "source": [
    "### DATA PREPROCESSING"
   ]
  },
  {
   "cell_type": "code",
   "execution_count": null,
   "metadata": {},
   "outputs": [],
   "source": [
    "print(\"PREPROCESSING\")\n",
    "# Convert date form to year\n",
    "for i in range(len(data['release_date'])):\n",
    "  if isinstance(data['release_date'][i], float):\n",
    "    data.at[i, 'release_date'] = \"\"\n",
    "  else:\n",
    "    row = data['release_date'][i].split('-')[0]\n",
    "    data.at[i, 'release_date'] = row\n",
    "data = data[data['release_date'] != \"\"]"
   ]
  },
  {
   "cell_type": "code",
   "execution_count": null,
   "metadata": {},
   "outputs": [],
   "source": [
    "# Grabbing the names of all the belongs_to_collection attached to each movie\n",
    "# for i in range(len(data['belongs_to_collection'])):\n",
    "#   if isinstance(data['belongs_to_collection'][i], float):\n",
    "#     data.at[i, 'belongs_to_collection'] = \"\"\n",
    "#   else:\n",
    "#     row = data['belongs_to_collection'][i]\n",
    "#     row = ast.literal_eval(row)\n",
    "#     if not row == {}:\n",
    "#       row = row['name']\n",
    "#     else:\n",
    "#       row = \"\"\n",
    "#     data.at[i, 'belongs_to_collection'] = row"
   ]
  },
  {
   "cell_type": "code",
   "execution_count": null,
   "metadata": {},
   "outputs": [],
   "source": [
    "# Delete rows where message = \"movie not found\"\n",
    "data = data[data.message != \"movie not found\"]\n",
    "# Delete rows where status = \"Rumored\" or nan\n",
    "data = data[data.status != \"Rumored\"]\n",
    "data = data.dropna(subset=['status'], inplace=False)"
   ]
  },
  {
   "cell_type": "code",
   "execution_count": null,
   "metadata": {},
   "outputs": [],
   "source": [
    "# Delete unnecessary columns\n",
    "data = data.drop(['tmdb_id', 'imdb_id', 'original_title', 'belongs_to_collection', 'budget', 'homepage', 'original_language', 'overview', 'poster_path', 'production_countries', 'revenue', 'runtime', 'status', 'vote_average', 'vote_count', 'message'], axis=1)\n",
    "print(data.columns)\n",
    "print(data.shape)"
   ]
  },
  {
   "cell_type": "code",
   "execution_count": null,
   "metadata": {},
   "outputs": [],
   "source": [
    "# Grabbing the names of all the genres attached to each movie\n",
    "data['genres'] = data['genres'].apply(literal_eval)\n",
    "data['genres'] = data['genres'].apply(lambda x: [i['name'].lower() for i in x])\n",
    "data['genres'] = data['genres'].apply(lambda x: [i.replace(' ','') for i in x])"
   ]
  },
  {
   "cell_type": "code",
   "execution_count": null,
   "metadata": {},
   "outputs": [],
   "source": [
    "# Grabbing the names of all the production_companies attached to each movie\n",
    "data['production_companies'] = data['production_companies'].apply(literal_eval)\n",
    "data['production_companies'] = data['production_companies'].apply(lambda x: [i['name'].lower() for i in x])\n",
    "data['production_companies'] = data['production_companies'].apply(lambda x: [i.replace(' ','') for i in x])"
   ]
  },
  {
   "cell_type": "code",
   "execution_count": null,
   "metadata": {},
   "outputs": [],
   "source": [
    "# Grabbing the names of all the production_countries attached to each movie\n",
    "# data['production_countries'] = data['production_countries'].apply(literal_eval)\n",
    "# data['production_countries'] = data['production_countries'].apply(lambda x: [i['name'].lower() for i in x])"
   ]
  },
  {
   "cell_type": "code",
   "execution_count": null,
   "metadata": {},
   "outputs": [],
   "source": [
    "# Grabbing the names of all the spoken_languages attached to each movie\n",
    "data['spoken_languages'] = data['spoken_languages'].apply(literal_eval)\n",
    "data['spoken_languages'] = data['spoken_languages'].apply(lambda x: [i['name'].lower() for i in x])\n",
    "data['spoken_languages'] = data['spoken_languages'].apply(lambda x: [i.replace(' ','') for i in x])"
   ]
  },
  {
   "cell_type": "code",
   "execution_count": null,
   "metadata": {},
   "outputs": [],
   "source": [
    "data.head()"
   ]
  },
  {
   "cell_type": "code",
   "execution_count": null,
   "metadata": {},
   "outputs": [],
   "source": [
    "data = data.drop(['popularity', 'release_date'], axis=1)"
   ]
  },
  {
   "cell_type": "markdown",
   "metadata": {},
   "source": [
    "### MERGING ALL THE FEATURES"
   ]
  },
  {
   "cell_type": "code",
   "execution_count": null,
   "metadata": {},
   "outputs": [],
   "source": [
    "print(\"FEATURE MERGING\")\n",
    "data['metadata'] = data.apply(lambda x : x['title'] + ' ' + str(x['adult']) + ' ' + ' '.join(x['genres']) + ' ' + ' '.join(x['production_companies']) + ' ' + ' ' + ' '.join(x['spoken_languages']), axis = 1)"
   ]
  },
  {
   "cell_type": "code",
   "execution_count": null,
   "metadata": {},
   "outputs": [],
   "source": [
    "data[['id', 'metadata']]"
   ]
  },
  {
   "cell_type": "markdown",
   "metadata": {},
   "source": [
    "### WRITING CLEAN DATA TO FILE"
   ]
  },
  {
   "cell_type": "code",
   "execution_count": null,
   "metadata": {},
   "outputs": [],
   "source": [
    "print(\"MODEL TRAINING\")\n",
    "data.to_csv(\"kafka-consumer/data/clean_data_1.csv\", index=False)"
   ]
  },
  {
   "cell_type": "markdown",
   "metadata": {},
   "source": [
    "### MODEL TRAINING"
   ]
  },
  {
   "cell_type": "code",
   "execution_count": null,
   "metadata": {},
   "outputs": [],
   "source": [
    "count_vec = CountVectorizer(stop_words='english')\n",
    "count_vec_matrix = count_vec.fit_transform(data['metadata'])\n",
    "cosine_sim_matrix = cosine_similarity(count_vec_matrix, count_vec_matrix)\n",
    "# Movies index mapping\n",
    "mapping = pd.Series(data.index,index = data['id'])"
   ]
  },
  {
   "cell_type": "code",
   "execution_count": null,
   "metadata": {},
   "outputs": [],
   "source": [
    "# Recommender function to recommend movies based on metadata\n",
    "def similar_movies(input):\n",
    "  index = mapping[input]\n",
    "  # Get similarity values with other movies\n",
    "  similarity_score = list(enumerate(cosine_sim_matrix[index]))\n",
    "  similarity_score = sorted(similarity_score, key=lambda x: x[1], reverse=True)\n",
    "  # Get the scores of the 20 most similar movies. Ignore the first movie.\n",
    "  similarity_score = similarity_score[1:20]\n",
    "  indices = [i[0] for i in similarity_score]\n",
    "  return (data['id'].iloc[indices])"
   ]
  },
  {
   "cell_type": "code",
   "execution_count": null,
   "metadata": {},
   "outputs": [],
   "source": [
    "# set(similar_movies('Live Free or Die Hard'))\n",
    "# user_data[user_data[\"user_id\"]==775307]\n",
    "# data.loc[data['id']=='live+free+or+die+hard+2007']['title'].tolist()[0]"
   ]
  },
  {
   "cell_type": "markdown",
   "metadata": {},
   "source": [
    "### MODEL PREDICTION"
   ]
  },
  {
   "cell_type": "code",
   "execution_count": null,
   "metadata": {},
   "outputs": [],
   "source": [
    "# def recommend(userid):\n",
    "#   watched = set(user_data[user_data[\"user\"] == userid]['movie'].tolist())\n",
    "#   watchlist = set()\n",
    "#   print(\"Movies watched by user \" + str(userid) + \": \")\n",
    "#   for movie in watched:\n",
    "#     title = data.loc[data['id'] == movie]['id'].tolist()[0]\n",
    "#     print(title)\n",
    "#     watchlist = watchlist.union(set(similar_movies(title)))\n",
    "#   return list(watchlist.difference(watched))\n",
    "\n",
    "# recommendations = recommend(775307)\n",
    "# print(\"\\nRecommended movie list:\\n\", recommendations)"
   ]
  },
  {
   "cell_type": "code",
   "execution_count": null,
   "metadata": {},
   "outputs": [],
   "source": [
    "# UPDATE 1\n",
    "# user watches multiple movies. he might rate multiple movies too. now when you receive the recommendations, \n",
    "# we need to make sure that the movie that user has rated the highest, is the one whose recommendations are given \n",
    "# first and then it goes on in a decreasing order. and once we collect all these movies, then we can sort them \n",
    "# according to the popularity and supply the top 20 movies.\n",
    "\n",
    "# UPDATE 2\n",
    "# we can also use a correlation matrix to see how features affect each other."
   ]
  }
 ],
 "metadata": {
  "interpreter": {
   "hash": "916dbcbb3f70747c44a77c7bcd40155683ae19c65e1c03b4aa3499c5328201f1"
  },
  "kernelspec": {
   "display_name": "Python 3.8.10 64-bit",
   "language": "python",
   "name": "python3"
  },
  "language_info": {
   "codemirror_mode": {
    "name": "ipython",
    "version": 3
   },
   "file_extension": ".py",
   "mimetype": "text/x-python",
   "name": "python",
   "nbconvert_exporter": "python",
   "pygments_lexer": "ipython3",
   "version": "3.8.10"
  },
  "orig_nbformat": 4
 },
 "nbformat": 4,
 "nbformat_minor": 2
}
