{
 "cells": [
  {
   "cell_type": "code",
   "execution_count": 82,
   "metadata": {},
   "outputs": [],
   "source": [
    "import pandas as pd\n",
    "import matplotlib.pyplot as plt\n",
    "import numpy as np"
   ]
  },
  {
   "cell_type": "code",
   "execution_count": 4,
   "metadata": {},
   "outputs": [],
   "source": [
    "import pathlib\n",
    "CWD = str(pathlib.Path().resolve())"
   ]
  },
  {
   "cell_type": "markdown",
   "metadata": {},
   "source": [
    "# 1. Availability "
   ]
  },
  {
   "cell_type": "markdown",
   "metadata": {},
   "source": [
    "1. Look at the user ids \n",
    "2. Find most frequent requests\n",
    "3. See if the requests are occuring concurrently "
   ]
  },
  {
   "cell_type": "code",
   "execution_count": 5,
   "metadata": {},
   "outputs": [],
   "source": [
    "USER_REQUEST_PATH = CWD + \"/../statuses/online_testing/online_test_data_real.csv\" "
   ]
  },
  {
   "cell_type": "code",
   "execution_count": 4,
   "metadata": {},
   "outputs": [],
   "source": [
    "user_req_df = pd.read_csv(USER_REQUEST_PATH)"
   ]
  },
  {
   "cell_type": "code",
   "execution_count": 5,
   "metadata": {},
   "outputs": [
    {
     "data": {
      "text/html": [
       "<div>\n",
       "<style scoped>\n",
       "    .dataframe tbody tr th:only-of-type {\n",
       "        vertical-align: middle;\n",
       "    }\n",
       "\n",
       "    .dataframe tbody tr th {\n",
       "        vertical-align: top;\n",
       "    }\n",
       "\n",
       "    .dataframe thead th {\n",
       "        text-align: right;\n",
       "    }\n",
       "</style>\n",
       "<table border=\"1\" class=\"dataframe\">\n",
       "  <thead>\n",
       "    <tr style=\"text-align: right;\">\n",
       "      <th></th>\n",
       "      <th>user</th>\n",
       "      <th>recommendations</th>\n",
       "      <th>watched movie</th>\n",
       "      <th>rated movie</th>\n",
       "      <th>rating</th>\n",
       "    </tr>\n",
       "  </thead>\n",
       "  <tbody>\n",
       "    <tr>\n",
       "      <th>0</th>\n",
       "      <td>31622</td>\n",
       "      <td>['eyewitness+1981', 'my+life+in+pink+1997', 'f...</td>\n",
       "      <td>tales+from+earthsea+2006</td>\n",
       "      <td>NaN</td>\n",
       "      <td>NaN</td>\n",
       "    </tr>\n",
       "    <tr>\n",
       "      <th>1</th>\n",
       "      <td>172823</td>\n",
       "      <td>['my+summer+of+love+2004', 'my+one+and+only+20...</td>\n",
       "      <td>my+one+and+only+2009</td>\n",
       "      <td>NaN</td>\n",
       "      <td>NaN</td>\n",
       "    </tr>\n",
       "    <tr>\n",
       "      <th>2</th>\n",
       "      <td>94467</td>\n",
       "      <td>['explorers+1985', 'swordfish+2001', 'running+...</td>\n",
       "      <td>explorers+1985</td>\n",
       "      <td>NaN</td>\n",
       "      <td>NaN</td>\n",
       "    </tr>\n",
       "    <tr>\n",
       "      <th>3</th>\n",
       "      <td>273180</td>\n",
       "      <td>['cypher+2002', 'mystery+men+1999', 'mysteriou...</td>\n",
       "      <td>bad+education+2004</td>\n",
       "      <td>NaN</td>\n",
       "      <td>NaN</td>\n",
       "    </tr>\n",
       "    <tr>\n",
       "      <th>4</th>\n",
       "      <td>327845</td>\n",
       "      <td>['my+side+of+the+mountain+1969', 'synecdoche_+...</td>\n",
       "      <td>se7en+1995</td>\n",
       "      <td>NaN</td>\n",
       "      <td>NaN</td>\n",
       "    </tr>\n",
       "  </tbody>\n",
       "</table>\n",
       "</div>"
      ],
      "text/plain": [
       "     user                                    recommendations  \\\n",
       "0   31622  ['eyewitness+1981', 'my+life+in+pink+1997', 'f...   \n",
       "1  172823  ['my+summer+of+love+2004', 'my+one+and+only+20...   \n",
       "2   94467  ['explorers+1985', 'swordfish+2001', 'running+...   \n",
       "3  273180  ['cypher+2002', 'mystery+men+1999', 'mysteriou...   \n",
       "4  327845  ['my+side+of+the+mountain+1969', 'synecdoche_+...   \n",
       "\n",
       "              watched movie rated movie rating  \n",
       "0  tales+from+earthsea+2006         NaN    NaN  \n",
       "1      my+one+and+only+2009         NaN    NaN  \n",
       "2            explorers+1985         NaN    NaN  \n",
       "3        bad+education+2004         NaN    NaN  \n",
       "4                se7en+1995         NaN    NaN  "
      ]
     },
     "execution_count": 5,
     "metadata": {},
     "output_type": "execute_result"
    }
   ],
   "source": [
    "user_req_df.head()"
   ]
  },
  {
   "cell_type": "code",
   "execution_count": 6,
   "metadata": {},
   "outputs": [],
   "source": [
    "user_ids = user_req_df[\"user\"]"
   ]
  },
  {
   "cell_type": "code",
   "execution_count": 19,
   "metadata": {},
   "outputs": [],
   "source": [
    "mulitple_requests = user_ids[user_ids.duplicated(keep=False)]"
   ]
  },
  {
   "cell_type": "code",
   "execution_count": 28,
   "metadata": {},
   "outputs": [
    {
     "data": {
      "text/plain": [
       "28"
      ]
     },
     "execution_count": 28,
     "metadata": {},
     "output_type": "execute_result"
    }
   ],
   "source": [
    "mulitple_requests.count()"
   ]
  },
  {
   "cell_type": "markdown",
   "metadata": {},
   "source": [
    "Checking for multiple user requests "
   ]
  },
  {
   "cell_type": "code",
   "execution_count": 24,
   "metadata": {},
   "outputs": [
    {
     "data": {
      "text/plain": [
       "(array([4., 2., 2., 4., 2., 2., 4., 2., 2., 4.]),\n",
       " array([ 0. ,  1.3,  2.6,  3.9,  5.2,  6.5,  7.8,  9.1, 10.4, 11.7, 13. ]),\n",
       " <BarContainer object of 10 artists>)"
      ]
     },
     "execution_count": 24,
     "metadata": {},
     "output_type": "execute_result"
    },
    {
     "data": {
      "image/png": "[encoded data removed]",
      "text/plain": [
       "<Figure size 432x288 with 1 Axes>"
      ]
     },
     "metadata": {
      "needs_background": "light"
     },
     "output_type": "display_data"
    }
   ],
   "source": [
    "plt.xlabel(\"User Ids\")\n",
    "plt.ylabel(\"Frequency\")\n",
    "plt.xticks(rotation=90)\n",
    "plt.hist(mulitple_requests)"
   ]
  },
  {
   "cell_type": "code",
   "execution_count": 48,
   "metadata": {},
   "outputs": [],
   "source": [
    "#Check if requests in a list occur within an interval\n",
    "def concurrent_requests(requests, interval):\n",
    "    for idx in range(len(requests)-1):\n",
    "        if (requests[idx+1]-requests[idx])>interval:\n",
    "            return False\n",
    "    return True"
   ]
  },
  {
   "cell_type": "code",
   "execution_count": 49,
   "metadata": {},
   "outputs": [
    {
     "data": {
      "text/plain": [
       "False"
      ]
     },
     "execution_count": 49,
     "metadata": {},
     "output_type": "execute_result"
    }
   ],
   "source": [
    "concurrent_requests([1,2,10],4)"
   ]
  },
  {
   "cell_type": "code",
   "execution_count": 51,
   "metadata": {},
   "outputs": [
    {
     "name": "stdout",
     "output_type": "stream",
     "text": [
      "No suspicious requests found!\n"
     ]
    }
   ],
   "source": [
    "concurrent_req_count = 0\n",
    "\n",
    "for user_id in mulitple_requests.unique():\n",
    "    indices = mulitple_requests[mulitple_requests==user_id].index.to_list()\n",
    "    concurrent = False\n",
    "    if concurrent_requests(indices, interval=4):\n",
    "        print(user_id, indices)\n",
    "        concurrent_req_count +=1\n",
    "\n",
    "if concurrent_req_count == 0:\n",
    "    print(\"No suspicious requests found!\")"
   ]
  },
  {
   "cell_type": "markdown",
   "metadata": {},
   "source": [
    "# 2. Integrity"
   ]
  },
  {
   "cell_type": "code",
   "execution_count": 86,
   "metadata": {},
   "outputs": [],
   "source": [
    "# Same file as user request file\n",
    "USER_DATA_PATH = CWD + \"/../statuses/online_testing/online_test_data_real.csv\" "
   ]
  },
  {
   "cell_type": "code",
   "execution_count": 87,
   "metadata": {},
   "outputs": [],
   "source": [
    "user_data_df = pd.read_csv(USER_REQUEST_PATH)"
   ]
  },
  {
   "cell_type": "code",
   "execution_count": 88,
   "metadata": {},
   "outputs": [],
   "source": [
    "#Finding movies that user has rated\n",
    "\n",
    "user_rated_df = user_data_df[user_data_df['rating'].astype(str).apply(str.isdigit)]\n"
   ]
  },
  {
   "cell_type": "code",
   "execution_count": 89,
   "metadata": {},
   "outputs": [
    {
     "data": {
      "text/html": [
       "<div>\n",
       "<style scoped>\n",
       "    .dataframe tbody tr th:only-of-type {\n",
       "        vertical-align: middle;\n",
       "    }\n",
       "\n",
       "    .dataframe tbody tr th {\n",
       "        vertical-align: top;\n",
       "    }\n",
       "\n",
       "    .dataframe thead th {\n",
       "        text-align: right;\n",
       "    }\n",
       "</style>\n",
       "<table border=\"1\" class=\"dataframe\">\n",
       "  <thead>\n",
       "    <tr style=\"text-align: right;\">\n",
       "      <th></th>\n",
       "      <th>user</th>\n",
       "      <th>recommendations</th>\n",
       "      <th>watched movie</th>\n",
       "      <th>rated movie</th>\n",
       "      <th>rating</th>\n",
       "    </tr>\n",
       "  </thead>\n",
       "  <tbody>\n",
       "    <tr>\n",
       "      <th>6</th>\n",
       "      <td>344914</td>\n",
       "      <td>['my+summer+of+love+2004', 'my+one+and+only+20...</td>\n",
       "      <td>kikis+delivery+service+1989</td>\n",
       "      <td>kikis+delivery+service+1989</td>\n",
       "      <td>5</td>\n",
       "    </tr>\n",
       "    <tr>\n",
       "      <th>15</th>\n",
       "      <td>265736</td>\n",
       "      <td>['my+boyfriends+back+1993', 'two+if+by+sea+199...</td>\n",
       "      <td>run_+simon_+run+1970</td>\n",
       "      <td>run_+simon_+run+1970</td>\n",
       "      <td>3</td>\n",
       "    </tr>\n",
       "    <tr>\n",
       "      <th>33</th>\n",
       "      <td>237184</td>\n",
       "      <td>['axed+2012', 'swordfish+2001', 'two+english+g...</td>\n",
       "      <td>NaN</td>\n",
       "      <td>in+the+heat+of+the+night+1967</td>\n",
       "      <td>4</td>\n",
       "    </tr>\n",
       "    <tr>\n",
       "      <th>34</th>\n",
       "      <td>453273</td>\n",
       "      <td>['mystery+date+1991', 'two+if+by+sea+1996', 't...</td>\n",
       "      <td>stardust+2007</td>\n",
       "      <td>stardust+2007</td>\n",
       "      <td>4</td>\n",
       "    </tr>\n",
       "    <tr>\n",
       "      <th>80</th>\n",
       "      <td>161022</td>\n",
       "      <td>['fx+1986', 'evolver+1994', 'pumpkin+2002', 'q...</td>\n",
       "      <td>casino+royale+2006</td>\n",
       "      <td>casino+royale+2006</td>\n",
       "      <td>5</td>\n",
       "    </tr>\n",
       "    <tr>\n",
       "      <th>...</th>\n",
       "      <td>...</td>\n",
       "      <td>...</td>\n",
       "      <td>...</td>\n",
       "      <td>...</td>\n",
       "      <td>...</td>\n",
       "    </tr>\n",
       "    <tr>\n",
       "      <th>9319</th>\n",
       "      <td>32636</td>\n",
       "      <td>['my+darling+clementine+1946', 'eyewitness+198...</td>\n",
       "      <td>NaN</td>\n",
       "      <td>harry+potter+and+the+chamber+of+secrets+2002</td>\n",
       "      <td>4</td>\n",
       "    </tr>\n",
       "    <tr>\n",
       "      <th>9324</th>\n",
       "      <td>68341</td>\n",
       "      <td>['my+one+and+only+2009', 'evolution+2001', 'su...</td>\n",
       "      <td>what+if+2013</td>\n",
       "      <td>what+if+2013</td>\n",
       "      <td>4</td>\n",
       "    </tr>\n",
       "    <tr>\n",
       "      <th>9328</th>\n",
       "      <td>273830</td>\n",
       "      <td>['executive+decision+1996', 'even+money+2006',...</td>\n",
       "      <td>turtles+forever+2009</td>\n",
       "      <td>turtles+forever+2009</td>\n",
       "      <td>2</td>\n",
       "    </tr>\n",
       "    <tr>\n",
       "      <th>9330</th>\n",
       "      <td>329279</td>\n",
       "      <td>['away+from+her+2006', 'dutch+1991', 'funny+fa...</td>\n",
       "      <td>green+chair+2005</td>\n",
       "      <td>green+chair+2005</td>\n",
       "      <td>3</td>\n",
       "    </tr>\n",
       "    <tr>\n",
       "      <th>9366</th>\n",
       "      <td>348906</td>\n",
       "      <td>['my+summer+of+love+2004', 'axed+2012', 'twili...</td>\n",
       "      <td>badmans+country+1958</td>\n",
       "      <td>badmans+country+1958</td>\n",
       "      <td>4</td>\n",
       "    </tr>\n",
       "  </tbody>\n",
       "</table>\n",
       "<p>420 rows × 5 columns</p>\n",
       "</div>"
      ],
      "text/plain": [
       "        user                                    recommendations  \\\n",
       "6     344914  ['my+summer+of+love+2004', 'my+one+and+only+20...   \n",
       "15    265736  ['my+boyfriends+back+1993', 'two+if+by+sea+199...   \n",
       "33    237184  ['axed+2012', 'swordfish+2001', 'two+english+g...   \n",
       "34    453273  ['mystery+date+1991', 'two+if+by+sea+1996', 't...   \n",
       "80    161022  ['fx+1986', 'evolver+1994', 'pumpkin+2002', 'q...   \n",
       "...      ...                                                ...   \n",
       "9319   32636  ['my+darling+clementine+1946', 'eyewitness+198...   \n",
       "9324   68341  ['my+one+and+only+2009', 'evolution+2001', 'su...   \n",
       "9328  273830  ['executive+decision+1996', 'even+money+2006',...   \n",
       "9330  329279  ['away+from+her+2006', 'dutch+1991', 'funny+fa...   \n",
       "9366  348906  ['my+summer+of+love+2004', 'axed+2012', 'twili...   \n",
       "\n",
       "                    watched movie  \\\n",
       "6     kikis+delivery+service+1989   \n",
       "15           run_+simon_+run+1970   \n",
       "33                            NaN   \n",
       "34                  stardust+2007   \n",
       "80             casino+royale+2006   \n",
       "...                           ...   \n",
       "9319                          NaN   \n",
       "9324                 what+if+2013   \n",
       "9328         turtles+forever+2009   \n",
       "9330             green+chair+2005   \n",
       "9366         badmans+country+1958   \n",
       "\n",
       "                                       rated movie rating  \n",
       "6                      kikis+delivery+service+1989      5  \n",
       "15                            run_+simon_+run+1970      3  \n",
       "33                   in+the+heat+of+the+night+1967      4  \n",
       "34                                   stardust+2007      4  \n",
       "80                              casino+royale+2006      5  \n",
       "...                                            ...    ...  \n",
       "9319  harry+potter+and+the+chamber+of+secrets+2002      4  \n",
       "9324                                  what+if+2013      4  \n",
       "9328                          turtles+forever+2009      2  \n",
       "9330                              green+chair+2005      3  \n",
       "9366                          badmans+country+1958      4  \n",
       "\n",
       "[420 rows x 5 columns]"
      ]
     },
     "execution_count": 89,
     "metadata": {},
     "output_type": "execute_result"
    }
   ],
   "source": [
    "user_rated_df"
   ]
  },
  {
   "cell_type": "code",
   "execution_count": 90,
   "metadata": {},
   "outputs": [],
   "source": [
    "low_rated_movies = user_rated_df[user_rated_df['rating'].astype(int)<3]"
   ]
  },
  {
   "cell_type": "code",
   "execution_count": 91,
   "metadata": {},
   "outputs": [
    {
     "data": {
      "text/html": [
       "<div>\n",
       "<style scoped>\n",
       "    .dataframe tbody tr th:only-of-type {\n",
       "        vertical-align: middle;\n",
       "    }\n",
       "\n",
       "    .dataframe tbody tr th {\n",
       "        vertical-align: top;\n",
       "    }\n",
       "\n",
       "    .dataframe thead th {\n",
       "        text-align: right;\n",
       "    }\n",
       "</style>\n",
       "<table border=\"1\" class=\"dataframe\">\n",
       "  <thead>\n",
       "    <tr style=\"text-align: right;\">\n",
       "      <th></th>\n",
       "      <th>user</th>\n",
       "      <th>recommendations</th>\n",
       "      <th>watched movie</th>\n",
       "      <th>rated movie</th>\n",
       "      <th>rating</th>\n",
       "    </tr>\n",
       "  </thead>\n",
       "  <tbody>\n",
       "    <tr>\n",
       "      <th>98</th>\n",
       "      <td>134637</td>\n",
       "      <td>['evolver+1994', 'quick+change+1990', 'mutant+...</td>\n",
       "      <td>NaN</td>\n",
       "      <td>insurgent+2015</td>\n",
       "      <td>2</td>\n",
       "    </tr>\n",
       "    <tr>\n",
       "      <th>365</th>\n",
       "      <td>193161</td>\n",
       "      <td>['my+dog+skip+2000', 'my+side+of+the+mountain+...</td>\n",
       "      <td>on+tour+2010</td>\n",
       "      <td>on+tour+2010</td>\n",
       "      <td>2</td>\n",
       "    </tr>\n",
       "    <tr>\n",
       "      <th>800</th>\n",
       "      <td>370967</td>\n",
       "      <td>['mystery_+alaska+1999', 'my+bloody+valentine+...</td>\n",
       "      <td>the+boy+in+the+striped+pyjamas+2008</td>\n",
       "      <td>the+boy+in+the+striped+pyjamas+2008</td>\n",
       "      <td>2</td>\n",
       "    </tr>\n",
       "    <tr>\n",
       "      <th>1387</th>\n",
       "      <td>126432</td>\n",
       "      <td>['my+darling+clementine+1946', 'rush+1991', 'b...</td>\n",
       "      <td>finding+forrester+2000</td>\n",
       "      <td>finding+forrester+2000</td>\n",
       "      <td>2</td>\n",
       "    </tr>\n",
       "    <tr>\n",
       "      <th>1550</th>\n",
       "      <td>251738</td>\n",
       "      <td>['swamp+thing+1982', 'fubar+2002', 'runaway+19...</td>\n",
       "      <td>the+friends+of+eddie+coyle+1973</td>\n",
       "      <td>the+friends+of+eddie+coyle+1973</td>\n",
       "      <td>2</td>\n",
       "    </tr>\n",
       "    <tr>\n",
       "      <th>2087</th>\n",
       "      <td>32746</td>\n",
       "      <td>['executive+decision+1996', 'away+from+her+200...</td>\n",
       "      <td>the+boy+in+the+striped+pyjamas+2008</td>\n",
       "      <td>the+boy+in+the+striped+pyjamas+2008</td>\n",
       "      <td>2</td>\n",
       "    </tr>\n",
       "    <tr>\n",
       "      <th>2334</th>\n",
       "      <td>342985</td>\n",
       "      <td>['my+sister+eileen+1955', 'eye+of+god+1997', '...</td>\n",
       "      <td>NaN</td>\n",
       "      <td>beau+brummel+1924</td>\n",
       "      <td>2</td>\n",
       "    </tr>\n",
       "    <tr>\n",
       "      <th>2964</th>\n",
       "      <td>251534</td>\n",
       "      <td>['my+life+1993', 'away+from+her+2006', 'dutch+...</td>\n",
       "      <td>dance+me+outside+1995</td>\n",
       "      <td>dance+me+outside+1995</td>\n",
       "      <td>2</td>\n",
       "    </tr>\n",
       "    <tr>\n",
       "      <th>3680</th>\n",
       "      <td>464044</td>\n",
       "      <td>['azumi+2003', 'my+man+godfrey+1957', 'my+one+...</td>\n",
       "      <td>the+appaloosa+1966</td>\n",
       "      <td>the+appaloosa+1966</td>\n",
       "      <td>2</td>\n",
       "    </tr>\n",
       "    <tr>\n",
       "      <th>4286</th>\n",
       "      <td>245132</td>\n",
       "      <td>['my+boyfriends+back+1993', 'axed+2012', 'swin...</td>\n",
       "      <td>district+13+ultimatum+2009</td>\n",
       "      <td>district+13+ultimatum+2009</td>\n",
       "      <td>2</td>\n",
       "    </tr>\n",
       "    <tr>\n",
       "      <th>4606</th>\n",
       "      <td>54527</td>\n",
       "      <td>['my+bodyguard+1980', 'evita+1996', 'overnight...</td>\n",
       "      <td>overnight+delivery+1998</td>\n",
       "      <td>the+blob+1988</td>\n",
       "      <td>2</td>\n",
       "    </tr>\n",
       "    <tr>\n",
       "      <th>4895</th>\n",
       "      <td>179852</td>\n",
       "      <td>['eyewitness+1981', 'cypher+2002', 'mvp+most+v...</td>\n",
       "      <td>unspeakable+acts+1990</td>\n",
       "      <td>unspeakable+acts+1990</td>\n",
       "      <td>2</td>\n",
       "    </tr>\n",
       "    <tr>\n",
       "      <th>4979</th>\n",
       "      <td>73952</td>\n",
       "      <td>['my+life+as+a+dog+1985', 'mystic+river+2003',...</td>\n",
       "      <td>the+maze+runner+2014</td>\n",
       "      <td>the+maze+runner+2014</td>\n",
       "      <td>2</td>\n",
       "    </tr>\n",
       "    <tr>\n",
       "      <th>5051</th>\n",
       "      <td>35493</td>\n",
       "      <td>['my+one+and+only+2009', 'swing+vote+2008', 'r...</td>\n",
       "      <td>eyewitness+1981</td>\n",
       "      <td>eyewitness+1981</td>\n",
       "      <td>2</td>\n",
       "    </tr>\n",
       "    <tr>\n",
       "      <th>5380</th>\n",
       "      <td>348920</td>\n",
       "      <td>['my+beautiful+laundrette+1985', 'explorers+19...</td>\n",
       "      <td>murder+by+numbers+2002</td>\n",
       "      <td>murder+by+numbers+2002</td>\n",
       "      <td>2</td>\n",
       "    </tr>\n",
       "    <tr>\n",
       "      <th>5545</th>\n",
       "      <td>217903</td>\n",
       "      <td>['my+boyfriends+back+1993', 'away+from+her+200...</td>\n",
       "      <td>my+giant+1998</td>\n",
       "      <td>my+giant+1998</td>\n",
       "      <td>2</td>\n",
       "    </tr>\n",
       "    <tr>\n",
       "      <th>5624</th>\n",
       "      <td>117812</td>\n",
       "      <td>['eyewitness+1981', 'mysterious+island+1961', ...</td>\n",
       "      <td>eyewitness+1981</td>\n",
       "      <td>eyewitness+1981</td>\n",
       "      <td>2</td>\n",
       "    </tr>\n",
       "    <tr>\n",
       "      <th>5658</th>\n",
       "      <td>127434</td>\n",
       "      <td>['my+one+and+only+2009', 'my+favorite+year+198...</td>\n",
       "      <td>death+of+a+cyclist+1955</td>\n",
       "      <td>death+of+a+cyclist+1955</td>\n",
       "      <td>2</td>\n",
       "    </tr>\n",
       "    <tr>\n",
       "      <th>5849</th>\n",
       "      <td>208719</td>\n",
       "      <td>['swing+kids+1993', 'twelve+oclock+high+1949',...</td>\n",
       "      <td>judgement+day+1983</td>\n",
       "      <td>judgement+day+1983</td>\n",
       "      <td>2</td>\n",
       "    </tr>\n",
       "    <tr>\n",
       "      <th>6285</th>\n",
       "      <td>237545</td>\n",
       "      <td>['over+the+hedge+2006', 'everyone+says+i+love+...</td>\n",
       "      <td>sleepover+2004</td>\n",
       "      <td>sleepover+2004</td>\n",
       "      <td>1</td>\n",
       "    </tr>\n",
       "    <tr>\n",
       "      <th>6361</th>\n",
       "      <td>57899</td>\n",
       "      <td>['myra+breckinridge+1970', 'my+one+and+only+20...</td>\n",
       "      <td>cinderfella+1960</td>\n",
       "      <td>cinderfella+1960</td>\n",
       "      <td>2</td>\n",
       "    </tr>\n",
       "    <tr>\n",
       "      <th>6814</th>\n",
       "      <td>244670</td>\n",
       "      <td>['my+one+and+only+2009', 'my+beautiful+laundre...</td>\n",
       "      <td>glasses+2007</td>\n",
       "      <td>glasses+2007</td>\n",
       "      <td>2</td>\n",
       "    </tr>\n",
       "    <tr>\n",
       "      <th>7715</th>\n",
       "      <td>441433</td>\n",
       "      <td>['away+from+her+2006', 'burlesque+2010', 'boun...</td>\n",
       "      <td>the+hamburg+syndrome+1979</td>\n",
       "      <td>the+hamburg+syndrome+1979</td>\n",
       "      <td>2</td>\n",
       "    </tr>\n",
       "    <tr>\n",
       "      <th>8959</th>\n",
       "      <td>291116</td>\n",
       "      <td>['from+the+hip+1987', 'brno+2009', 'forbidden+...</td>\n",
       "      <td>treasure+planet+2002</td>\n",
       "      <td>treasure+planet+2002</td>\n",
       "      <td>2</td>\n",
       "    </tr>\n",
       "    <tr>\n",
       "      <th>9328</th>\n",
       "      <td>273830</td>\n",
       "      <td>['executive+decision+1996', 'even+money+2006',...</td>\n",
       "      <td>turtles+forever+2009</td>\n",
       "      <td>turtles+forever+2009</td>\n",
       "      <td>2</td>\n",
       "    </tr>\n",
       "  </tbody>\n",
       "</table>\n",
       "</div>"
      ],
      "text/plain": [
       "        user                                    recommendations  \\\n",
       "98    134637  ['evolver+1994', 'quick+change+1990', 'mutant+...   \n",
       "365   193161  ['my+dog+skip+2000', 'my+side+of+the+mountain+...   \n",
       "800   370967  ['mystery_+alaska+1999', 'my+bloody+valentine+...   \n",
       "1387  126432  ['my+darling+clementine+1946', 'rush+1991', 'b...   \n",
       "1550  251738  ['swamp+thing+1982', 'fubar+2002', 'runaway+19...   \n",
       "2087   32746  ['executive+decision+1996', 'away+from+her+200...   \n",
       "2334  342985  ['my+sister+eileen+1955', 'eye+of+god+1997', '...   \n",
       "2964  251534  ['my+life+1993', 'away+from+her+2006', 'dutch+...   \n",
       "3680  464044  ['azumi+2003', 'my+man+godfrey+1957', 'my+one+...   \n",
       "4286  245132  ['my+boyfriends+back+1993', 'axed+2012', 'swin...   \n",
       "4606   54527  ['my+bodyguard+1980', 'evita+1996', 'overnight...   \n",
       "4895  179852  ['eyewitness+1981', 'cypher+2002', 'mvp+most+v...   \n",
       "4979   73952  ['my+life+as+a+dog+1985', 'mystic+river+2003',...   \n",
       "5051   35493  ['my+one+and+only+2009', 'swing+vote+2008', 'r...   \n",
       "5380  348920  ['my+beautiful+laundrette+1985', 'explorers+19...   \n",
       "5545  217903  ['my+boyfriends+back+1993', 'away+from+her+200...   \n",
       "5624  117812  ['eyewitness+1981', 'mysterious+island+1961', ...   \n",
       "5658  127434  ['my+one+and+only+2009', 'my+favorite+year+198...   \n",
       "5849  208719  ['swing+kids+1993', 'twelve+oclock+high+1949',...   \n",
       "6285  237545  ['over+the+hedge+2006', 'everyone+says+i+love+...   \n",
       "6361   57899  ['myra+breckinridge+1970', 'my+one+and+only+20...   \n",
       "6814  244670  ['my+one+and+only+2009', 'my+beautiful+laundre...   \n",
       "7715  441433  ['away+from+her+2006', 'burlesque+2010', 'boun...   \n",
       "8959  291116  ['from+the+hip+1987', 'brno+2009', 'forbidden+...   \n",
       "9328  273830  ['executive+decision+1996', 'even+money+2006',...   \n",
       "\n",
       "                            watched movie  \\\n",
       "98                                    NaN   \n",
       "365                          on+tour+2010   \n",
       "800   the+boy+in+the+striped+pyjamas+2008   \n",
       "1387               finding+forrester+2000   \n",
       "1550      the+friends+of+eddie+coyle+1973   \n",
       "2087  the+boy+in+the+striped+pyjamas+2008   \n",
       "2334                                  NaN   \n",
       "2964                dance+me+outside+1995   \n",
       "3680                   the+appaloosa+1966   \n",
       "4286           district+13+ultimatum+2009   \n",
       "4606              overnight+delivery+1998   \n",
       "4895                unspeakable+acts+1990   \n",
       "4979                 the+maze+runner+2014   \n",
       "5051                      eyewitness+1981   \n",
       "5380               murder+by+numbers+2002   \n",
       "5545                        my+giant+1998   \n",
       "5624                      eyewitness+1981   \n",
       "5658              death+of+a+cyclist+1955   \n",
       "5849                   judgement+day+1983   \n",
       "6285                       sleepover+2004   \n",
       "6361                     cinderfella+1960   \n",
       "6814                         glasses+2007   \n",
       "7715            the+hamburg+syndrome+1979   \n",
       "8959                 treasure+planet+2002   \n",
       "9328                 turtles+forever+2009   \n",
       "\n",
       "                              rated movie rating  \n",
       "98                         insurgent+2015      2  \n",
       "365                          on+tour+2010      2  \n",
       "800   the+boy+in+the+striped+pyjamas+2008      2  \n",
       "1387               finding+forrester+2000      2  \n",
       "1550      the+friends+of+eddie+coyle+1973      2  \n",
       "2087  the+boy+in+the+striped+pyjamas+2008      2  \n",
       "2334                    beau+brummel+1924      2  \n",
       "2964                dance+me+outside+1995      2  \n",
       "3680                   the+appaloosa+1966      2  \n",
       "4286           district+13+ultimatum+2009      2  \n",
       "4606                        the+blob+1988      2  \n",
       "4895                unspeakable+acts+1990      2  \n",
       "4979                 the+maze+runner+2014      2  \n",
       "5051                      eyewitness+1981      2  \n",
       "5380               murder+by+numbers+2002      2  \n",
       "5545                        my+giant+1998      2  \n",
       "5624                      eyewitness+1981      2  \n",
       "5658              death+of+a+cyclist+1955      2  \n",
       "5849                   judgement+day+1983      2  \n",
       "6285                       sleepover+2004      1  \n",
       "6361                     cinderfella+1960      2  \n",
       "6814                         glasses+2007      2  \n",
       "7715            the+hamburg+syndrome+1979      2  \n",
       "8959                 treasure+planet+2002      2  \n",
       "9328                 turtles+forever+2009      2  "
      ]
     },
     "execution_count": 91,
     "metadata": {},
     "output_type": "execute_result"
    }
   ],
   "source": [
    "low_rated_movies"
   ]
  },
  {
   "cell_type": "code",
   "execution_count": 92,
   "metadata": {},
   "outputs": [
    {
     "data": {
      "text/html": [
       "<div>\n",
       "<style scoped>\n",
       "    .dataframe tbody tr th:only-of-type {\n",
       "        vertical-align: middle;\n",
       "    }\n",
       "\n",
       "    .dataframe tbody tr th {\n",
       "        vertical-align: top;\n",
       "    }\n",
       "\n",
       "    .dataframe thead th {\n",
       "        text-align: right;\n",
       "    }\n",
       "</style>\n",
       "<table border=\"1\" class=\"dataframe\">\n",
       "  <thead>\n",
       "    <tr style=\"text-align: right;\">\n",
       "      <th></th>\n",
       "      <th>user</th>\n",
       "      <th>recommendations</th>\n",
       "      <th>watched movie</th>\n",
       "      <th>rated movie</th>\n",
       "      <th>rating</th>\n",
       "    </tr>\n",
       "  </thead>\n",
       "  <tbody>\n",
       "  </tbody>\n",
       "</table>\n",
       "</div>"
      ],
      "text/plain": [
       "Empty DataFrame\n",
       "Columns: [user, recommendations, watched movie, rated movie, rating]\n",
       "Index: []"
      ]
     },
     "execution_count": 92,
     "metadata": {},
     "output_type": "execute_result"
    }
   ],
   "source": [
    "low_rated_movies[low_rated_movies[\"user\"].duplicated()] # Find users who have rated multiple movies"
   ]
  },
  {
   "cell_type": "markdown",
   "metadata": {},
   "source": [
    "low_rated_movies[low_rated_movies[\"rated\"].duplicated()] "
   ]
  },
  {
   "cell_type": "code",
   "execution_count": 93,
   "metadata": {},
   "outputs": [],
   "source": [
    "badly_rated_movies = low_rated_movies[low_rated_movies[\"rated movie\"].duplicated(keep=False)]"
   ]
  },
  {
   "cell_type": "code",
   "execution_count": 94,
   "metadata": {},
   "outputs": [
    {
     "data": {
      "text/html": [
       "<div>\n",
       "<style scoped>\n",
       "    .dataframe tbody tr th:only-of-type {\n",
       "        vertical-align: middle;\n",
       "    }\n",
       "\n",
       "    .dataframe tbody tr th {\n",
       "        vertical-align: top;\n",
       "    }\n",
       "\n",
       "    .dataframe thead th {\n",
       "        text-align: right;\n",
       "    }\n",
       "</style>\n",
       "<table border=\"1\" class=\"dataframe\">\n",
       "  <thead>\n",
       "    <tr style=\"text-align: right;\">\n",
       "      <th></th>\n",
       "      <th>user</th>\n",
       "      <th>rated movie</th>\n",
       "      <th>rating</th>\n",
       "    </tr>\n",
       "  </thead>\n",
       "  <tbody>\n",
       "    <tr>\n",
       "      <th>800</th>\n",
       "      <td>370967</td>\n",
       "      <td>the+boy+in+the+striped+pyjamas+2008</td>\n",
       "      <td>2</td>\n",
       "    </tr>\n",
       "    <tr>\n",
       "      <th>2087</th>\n",
       "      <td>32746</td>\n",
       "      <td>the+boy+in+the+striped+pyjamas+2008</td>\n",
       "      <td>2</td>\n",
       "    </tr>\n",
       "    <tr>\n",
       "      <th>5051</th>\n",
       "      <td>35493</td>\n",
       "      <td>eyewitness+1981</td>\n",
       "      <td>2</td>\n",
       "    </tr>\n",
       "    <tr>\n",
       "      <th>5624</th>\n",
       "      <td>117812</td>\n",
       "      <td>eyewitness+1981</td>\n",
       "      <td>2</td>\n",
       "    </tr>\n",
       "  </tbody>\n",
       "</table>\n",
       "</div>"
      ],
      "text/plain": [
       "        user                          rated movie rating\n",
       "800   370967  the+boy+in+the+striped+pyjamas+2008      2\n",
       "2087   32746  the+boy+in+the+striped+pyjamas+2008      2\n",
       "5051   35493                      eyewitness+1981      2\n",
       "5624  117812                      eyewitness+1981      2"
      ]
     },
     "execution_count": 94,
     "metadata": {},
     "output_type": "execute_result"
    }
   ],
   "source": [
    "badly_rated_movies.loc[:,[\"user\",\"rated movie\", \"rating\"]]"
   ]
  },
  {
   "cell_type": "code",
   "execution_count": 96,
   "metadata": {},
   "outputs": [
    {
     "name": "stdout",
     "output_type": "stream",
     "text": [
      "Actual mean rating of the+boy+in+the+striped+pyjamas+2008: 3.2\n",
      "Ratings given:\n",
      "800     2\n",
      "2087    2\n",
      "Name: rating, dtype: object\n",
      "Number of outliers: 2/5\n",
      "Actual mean rating of eyewitness+1981: 3.0\n",
      "Ratings given:\n",
      "5051    2\n",
      "5624    2\n",
      "Name: rating, dtype: object\n",
      "Number of outliers: 2/5\n"
     ]
    }
   ],
   "source": [
    "for movie in badly_rated_movies[\"rated movie\"].unique():\n",
    "    all_ratings = user_rated_df[user_rated_df[\"rated movie\"]==movie][\"rating\"].astype(int)\n",
    "    movie_df = badly_rated_movies[badly_rated_movies[\"rated movie\"]==movie][\"rating\"]\n",
    "    actual_mean = np.mean(all_ratings.values)\n",
    "    print(f\"Actual mean rating of {movie}: {actual_mean}\")\n",
    "    print(\"Ratings given:\\n\",movie_df,sep='')\n",
    "    print(f\"Number of outliers: {len(movie_df)}/{len(all_ratings)}\")\n"
   ]
  }
 ],
 "metadata": {
  "interpreter": {
   "hash": "916dbcbb3f70747c44a77c7bcd40155683ae19c65e1c03b4aa3499c5328201f1"
  },
  "kernelspec": {
   "display_name": "Python 3.8.10 64-bit",
   "language": "python",
   "name": "python3"
  },
  "language_info": {
   "codemirror_mode": {
    "name": "ipython",
    "version": 3
   },
   "file_extension": ".py",
   "mimetype": "text/x-python",
   "name": "python",
   "nbconvert_exporter": "python",
   "pygments_lexer": "ipython3",
   "version": "3.8.10"
  },
  "orig_nbformat": 4
 },
 "nbformat": 4,
 "nbformat_minor": 2
}
